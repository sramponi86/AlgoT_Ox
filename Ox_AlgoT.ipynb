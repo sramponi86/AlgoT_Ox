{
  "cells": [
    {
      "cell_type": "code",
      "source": [
        "import pandas as pd      \n",
        "import numpy as np   \n",
        "import datetime as dt\n",
        "import yfinance as yf\n",
        "# Importing packages to plot\n",
        "import matplotlib.pyplot as plt"
      ],
      "metadata": {
        "id": "NO4MPdMQ_Z1J"
      },
      "execution_count": 1,
      "outputs": []
    },
    {
      "cell_type": "code",
      "source": [
        "# Loading data for S&P 500 time-series\n",
        "data_source = yf.Ticker('^GSPC')\n",
        "\n",
        "# Alternatively can load FTSE100\n",
        "# data_source = yf.Ticker('^FTSE')\n",
        "\n",
        "data_hist = data_source.history(period='max')\n",
        "# Print data history\n",
        "data_hist"
      ],
      "metadata": {
        "id": "hRuN2BLV_huk"
      },
      "execution_count": null,
      "outputs": []
    },
    {
      "cell_type": "code",
      "source": [
        "# Filter data from 1990\n",
        "data = data_hist[\"1990-01-01\":\"2009-12-31\"].copy()\n",
        "\n",
        "# Check for null and zero entries \n",
        "len(\n",
        "  data[\n",
        "    data.Close.isna() |\n",
        "    data.Close.isnull() |\n",
        "    data.Close < 1e-8\n",
        "  ]\n",
        ")"
      ],
      "metadata": {
        "colab": {
          "base_uri": "https://localhost:8080/"
        },
        "id": "002fJmqV_v9_",
        "outputId": "6fef34a3-e806-4038-f4fc-05fc98eea19e"
      },
      "execution_count": 3,
      "outputs": [
        {
          "output_type": "execute_result",
          "data": {
            "text/plain": [
              "0"
            ]
          },
          "metadata": {},
          "execution_count": 3
        }
      ]
    },
    {
      "cell_type": "code",
      "source": [
        "# Plotting prices\n",
        "data.Close.plot()\n",
        "plt.ylabel(\"Price\");"
      ],
      "metadata": {
        "id": "AVlaUAu9_2ke"
      },
      "execution_count": null,
      "outputs": []
    },
    {
      "cell_type": "code",
      "source": [
        "data = data_hist[\"1988-12-01\":\"2009-12-31\"].copy()"
      ],
      "metadata": {
        "id": "lvGELfVJ_5b_"
      },
      "execution_count": 5,
      "outputs": []
    },
    {
      "cell_type": "code",
      "source": [
        "def calc_returns(srs, offset=1):\n",
        "    \"\"\" \n",
        "        Parameters:\n",
        "              srs: pandas time-series\n",
        "              offset: number of days to offset returns\n",
        "        Return:\n",
        "          Calculates the returns over the past number of days \n",
        "          specified by offset\n",
        "    \"\"\"\n",
        "    \n",
        "    returns = (srs - srs.shift(offset)) / srs.shift(offset)\n",
        "    \n",
        "    return returns"
      ],
      "metadata": {
        "id": "W98dsnia_9EC"
      },
      "execution_count": 6,
      "outputs": []
    },
    {
      "cell_type": "code",
      "source": [
        "data[\"daily_returns\"] = calc_returns(data[\"Close\"])\n",
        "data[\"next_day_returns\"] = data[\"daily_returns\"].shift(-1)\n",
        "data.head()"
      ],
      "metadata": {
        "id": "mGZyjYG1AAr3"
      },
      "execution_count": null,
      "outputs": []
    },
    {
      "cell_type": "code",
      "source": [
        "# Limit data to within 5 standard deviations\n",
        "# Winsorise the data by capping it to be within 5 x standard deviations\n",
        "VOL_THRESHOLD = 5  \n",
        "data[\"srs\"] = data[\"Close\"]\n",
        "\n",
        "# Smooth annual lookback window (Approx. 252 trading days/year)\n",
        "SMOOTH_WINDOW = 252 \n",
        "\n",
        "\n",
        "ewm = data[\"srs\"].ewm(halflife=SMOOTH_WINDOW)\n",
        "# Calculate the exponentially-weighted moving mean\n",
        "means = ewm.mean()\n",
        "# Calculate the exponentially-weighted moving standard deviation\n",
        "stds = ewm.std()\n",
        "\n",
        "# Calculating upper bound\n",
        "ub = means + VOL_THRESHOLD * stds\n",
        "data[\"srs\"] = np.minimum(data[\"srs\"], ub);\n",
        "\n",
        "# Calculating lower bound\n",
        "lb = means - VOL_THRESHOLD * stds\n",
        "data[\"srs\"] = np.maximum(data[\"srs\"], lb);\n",
        "\n",
        "# Next day return without capping but returns for signal with capping\n",
        "data[\"daily_returns\"] = calc_returns(data[\"srs\"],1)\n",
        "\n",
        "plt.plot(data[\"daily_returns\"]);"
      ],
      "metadata": {
        "id": "k_tcZOXTAFOl"
      },
      "execution_count": null,
      "outputs": []
    },
    {
      "cell_type": "code",
      "source": [
        "# Rescale volatility for comparison\n",
        "def rescale_to_target_volatility(srs,vol=0.15):\n",
        "    return srs *  vol / srs.std() / np.sqrt(252)\n",
        "\n",
        "def plot_captured_returns(next_day_captured, plot_with_equal_vol = None):\n",
        "    \"\"\" Parameters:\n",
        "            next_day_captured: time-series of next day returns\n",
        "        Return:\n",
        "            matplotlib.pyplot of cumulative returns \"\"\"\n",
        "    \n",
        "    if plot_with_equal_vol is not None:\n",
        "        srs = rescale_to_target_volatility(next_day_captured.copy(),vol=plot_with_equal_vol)\n",
        "    else:\n",
        "        srs = next_day_captured.copy()\n",
        "        \n",
        "    ((srs.shift(1) + 1).cumprod() - 1).plot()\n",
        "    plt.ylabel(\"Cumulative  returns\");"
      ],
      "metadata": {
        "id": "DhkQH-0VAJ8A"
      },
      "execution_count": 10,
      "outputs": []
    },
    {
      "cell_type": "code",
      "source": [
        "# Load long-only returns and plot\n",
        "captured_returns_longonly = data['next_day_returns'][\"1990-01-01\":]\n",
        "plot_captured_returns(captured_returns_longonly)"
      ],
      "metadata": {
        "id": "3Get6IV1ARfT"
      },
      "execution_count": null,
      "outputs": []
    },
    {
      "cell_type": "code",
      "source": [
        "def calc_downside_deviation(srs):\n",
        "    \"\"\" Parameters:\n",
        "            srs: pandas time-series\n",
        "        Return:\n",
        "            Downside Deviation (defined above) \"\"\"\n",
        "    negative_returns = srs.apply(lambda x: x if x < 0 else np.nan).dropna() * np.sqrt(252)\n",
        "    return negative_returns.std()\n",
        "\n",
        "def calc_max_drawdown(srs):\n",
        "    \"\"\" Parameters:\n",
        "            srs: pandas time-series\n",
        "        Return:\n",
        "            MDD (defined above) \"\"\"\n",
        "    cumulative_max = srs.cummax()\n",
        "    drawdown = cumulative_max - srs\n",
        "    return drawdown.max()\n",
        "\n",
        "def calc_profit_and_loss_ratio(srs):\n",
        "    \"\"\" Parameters:\n",
        "            srs: pandas time-series\n",
        "        Return:\n",
        "            PnL ratio (defined above) \"\"\"\n",
        "    return np.mean(srs[srs>0])/np.mean(np.abs(srs[srs<0]))"
      ],
      "metadata": {
        "id": "f40wD0A7AYIu"
      },
      "execution_count": 12,
      "outputs": []
    },
    {
      "cell_type": "code",
      "source": [
        "def calculate_statistics(next_day_captured, print_results=True):\n",
        "    \"\"\" Parameters:\n",
        "            srs: pandas time-series\n",
        "            print_results: bool to print statistics\n",
        "        Return:\n",
        "            Metrics and risk adjusted performance metrics (defined above) \"\"\"\n",
        "    \n",
        "    \n",
        "    srs = next_day_captured.shift(1)\n",
        "    mean = srs.mean()\n",
        "    vol = srs.std()\n",
        "    \n",
        "    # Calculate annualised metrics:\n",
        "    returns_annualised =  mean*252\n",
        "    vol_annualised = vol*np.sqrt(252)\n",
        "    downside_devs_annualised = calc_downside_deviation(srs)\n",
        "    max_drawdown = calc_max_drawdown(srs)\n",
        "    pnl_ratio = calc_profit_and_loss_ratio(srs)\n",
        "    perc_positive_return = len(srs[srs>0])/len(srs)\n",
        "    \n",
        "    \"\"\"\n",
        "        Exercise: complete the following ratio definitions\n",
        "    \"\"\"\n",
        "    # Calculate risk-adjusted performance metrics:\n",
        "    \n",
        "    sharpe = mean/vol*np.sqrt(252)   \n",
        "    sortino = mean / downside_devs_annualised * 252\n",
        "    calmar = mean / max_drawdown * 252\n",
        "    \n",
        "    # Print results\n",
        "    if print_results:\n",
        "        print(\"\\033[4mPerformance Metrics:\\033[0m\")\n",
        "        print(f\"Annualised Returns = {returns_annualised:.2%}\")\n",
        "        print(f\"Annualised Volatility = {vol_annualised:.2%}\")\n",
        "        print(f\"Downside Deviation = {downside_devs_annualised:.2%}\")\n",
        "        print(f\"Maximum Drawdown = {max_drawdown:.2%}\")\n",
        "        print(f\"Sharpe Ratio = {sharpe:.2f}\")\n",
        "        print(f\"Sortino Ratio = {sortino:.2f}\")\n",
        "        print(f\"Calmar Ratio = {calmar:.2f}\")\n",
        "        print(f\"Percentage of positive returns = {perc_positive_return:.2%}\")\n",
        "        print(f\"Profit/Loss ratio = {pnl_ratio:.3f}\")\n",
        "   \n",
        "    # Return performance metrics\n",
        "    return {\n",
        "        \"returns_annualised\":  returns_annualised,\n",
        "        \"vol_annualised\": vol_annualised,\n",
        "        \"downside_deviation_annualised\": downside_devs_annualised,\n",
        "        \"max_drawdown\": max_drawdown,\n",
        "        \"sharpe\": sharpe,\n",
        "        \"sortino\": sortino,\n",
        "        \"calmar\": calmar,\n",
        "        \"pnl_ratio\": pnl_ratio,\n",
        "      }\n",
        "\n",
        "# Calculate performance metrics for basic long-only strategy defined\n",
        "stats_longonly = calculate_statistics(captured_returns_longonly)"
      ],
      "metadata": {
        "id": "ub7rv68FAZZE"
      },
      "execution_count": null,
      "outputs": []
    },
    {
      "cell_type": "code",
      "source": [
        "VOL_LOOKBACK = 60 # Lookback window for calculating daily volatility\n",
        "VOL_TARGET = 0.15 # Setting annualised volatility target\n",
        "\n",
        "def volatility_scaled_returns(daily_returns, vol_lookback = VOL_LOOKBACK, vol_target = VOL_TARGET):\n",
        "    \"\"\" Parameters:\n",
        "            daily_returns: pandas time-series of the daily returns\n",
        "            print_results: bool to print statistics\n",
        "        Return:\n",
        "            Volatility scaled returns for annualised VOL_TARGET of 15% \"\"\"\n",
        "    \n",
        "    #  Complete function\n",
        "    # Calculate daily volatility\n",
        "    volatility = daily_returns.ewm(span=vol_lookback).std()\n",
        "\n",
        "    # Calculate scaled returns\n",
        "    scaled_returns = (vol_target / volatility) * daily_returns.shift(-1)\n",
        "    \n",
        "    return scaled_returns"
      ],
      "metadata": {
        "id": "nQbBnVwsE_bu"
      },
      "execution_count": 21,
      "outputs": []
    },
    {
      "cell_type": "code",
      "source": [
        "# Calculate volatility scaled returns\n",
        "data['scaled_returns'] = volatility_scaled_returns(data[\"daily_returns\"])\n",
        "print(f\"Signal annualised volatility: {data['scaled_returns'].std()*np.sqrt(252):.2%}\")"
      ],
      "metadata": {
        "colab": {
          "base_uri": "https://localhost:8080/"
        },
        "id": "8_ZZPA8FFDvi",
        "outputId": "cc619938-6278-46f9-f383-4f5ec099d20e"
      },
      "execution_count": 22,
      "outputs": [
        {
          "output_type": "stream",
          "name": "stdout",
          "text": [
            "Signal annualised volatility: 246.40%\n"
          ]
        }
      ]
    },
    {
      "cell_type": "code",
      "source": [
        "data[\"trading_rule_signal\"] = (1 + data[\"scaled_returns\"]).cumprod()\n",
        "data[\"scaled_next_day_returns\"] = data[\"scaled_returns\"].shift(-1)"
      ],
      "metadata": {
        "id": "4F-YLL_5FHMj"
      },
      "execution_count": 23,
      "outputs": []
    },
    {
      "cell_type": "code",
      "source": [
        "captured_returns_volscaled_lo = data[\"scaled_next_day_returns\"][\"1990-01-01\":]\n",
        "# Plot unscaled returns\n",
        "plot_captured_returns(captured_returns_longonly, plot_with_equal_vol = VOL_TARGET)\n",
        "# Plot volatility-scaled returns\n",
        "plot_captured_returns(captured_returns_volscaled_lo, plot_with_equal_vol = VOL_TARGET)\n",
        "plt.legend([\"Unscaled\", \"Vol. scaled\"]);"
      ],
      "metadata": {
        "id": "lOBXbfs_FIcj"
      },
      "execution_count": null,
      "outputs": []
    },
    {
      "cell_type": "code",
      "source": [
        "print(\"Vol. scaled long only:\")\n",
        "stats_volscaled_longonly = calculate_statistics(captured_returns_volscaled_lo)"
      ],
      "metadata": {
        "id": "F3JhXX1uFP9s"
      },
      "execution_count": null,
      "outputs": []
    },
    {
      "cell_type": "code",
      "source": [
        "print(\"Unscaled long only:\")\n",
        "stats_longonly = calculate_statistics(captured_returns_longonly)"
      ],
      "metadata": {
        "id": "JPi9g5wUFUis"
      },
      "execution_count": null,
      "outputs": []
    },
    {
      "cell_type": "code",
      "source": [
        "# Note that you are using the volatility-scaled framework\n",
        "data[\"annual_returns\"] = calc_returns(data[\"srs\"], 252)"
      ],
      "metadata": {
        "id": "wF_v2LHUGShN"
      },
      "execution_count": 27,
      "outputs": []
    },
    {
      "cell_type": "code",
      "source": [
        "# With the calculated returns, adjust your trading position accordingly\n",
        "captured_returns_volscaled_tsmom = (\n",
        "    np.sign(data[\"annual_returns\"])*data[\"scaled_next_day_returns\"]\n",
        ")[\"1990-01-01\":]\n",
        "\n",
        "# Plot the time series momentum strategy against the long-only strategy\n",
        "plot_captured_returns(captured_returns_volscaled_lo, plot_with_equal_vol = VOL_TARGET)\n",
        "plot_captured_returns(captured_returns_volscaled_tsmom, plot_with_equal_vol = VOL_TARGET)\n",
        "plt.legend([\"Long Only\", \"TSMOM\"]);"
      ],
      "metadata": {
        "id": "Hlb_hqEBGT0i"
      },
      "execution_count": null,
      "outputs": []
    },
    {
      "cell_type": "code",
      "source": [
        "# Calculate performance metrics\n",
        "stats_volscaled_tsmom = calculate_statistics(captured_returns_volscaled_tsmom)"
      ],
      "metadata": {
        "id": "Wdc-PwmSGZAH"
      },
      "execution_count": null,
      "outputs": []
    },
    {
      "cell_type": "code",
      "source": [
        "# Calculate returns for different timescales\n",
        "returns_1w = data[\"srs\"].pct_change(5)  # 1 week (5 trading days)\n",
        "returns_1m = data[\"srs\"].pct_change(20)  # 1 month (20 trading days)\n",
        "returns_1q = data[\"srs\"].pct_change(63)  # 1 quarter (63 trading days)\n",
        "returns_half_year = data[\"srs\"].pct_change(126)  # Half a year (126 trading days)\n",
        "\n",
        "# Calculate cumulative returns for each timescale\n",
        "cum_returns_1w = (1 + returns_1w).cumprod() - 1\n",
        "cum_returns_1m = (1 + returns_1m).cumprod() - 1\n",
        "cum_returns_1q = (1 + returns_1q).cumprod() - 1\n",
        "cum_returns_half_year = (1 + returns_half_year).cumprod() - 1\n",
        "\n",
        "# Plot cumulative returns for different timescales\n",
        "plt.plot(cum_returns_1w, label=\"1 Week\")\n",
        "plt.plot(cum_returns_1m, label=\"1 Month\")\n",
        "plt.plot(cum_returns_1q, label=\"1 Quarter\")\n",
        "plt.plot(cum_returns_half_year, label=\"Half Year\")\n",
        "\n",
        "plt.xlabel(\"Date\")\n",
        "plt.ylabel(\"Cumulative Returns\")\n",
        "plt.title(\"Cumulative Returns for Different Timescales\")\n",
        "plt.legend()\n",
        "plt.show()"
      ],
      "metadata": {
        "id": "X6nardSZGalG"
      },
      "execution_count": null,
      "outputs": []
    },
    {
      "cell_type": "code",
      "source": [
        "weightings = [0.0, 0.25, 0.5, 0.75, 1.0]\n",
        "\n",
        "# Initialize an empty DataFrame to store the combined signals\n",
        "combined_signals = pd.DataFrame(index=data.index)\n",
        "\n",
        "# Calculate the combined signals for each weighting\n",
        "for w in weightings:\n",
        "    signal_1m = np.sign(data[\"srs\"].pct_change(20))\n",
        "    signal_1y = np.sign(data[\"srs\"].pct_change(252))\n",
        "    combined_signal = w * signal_1m + (1 - w) * signal_1y\n",
        "    combined_signals[f\"w={w}\"] = combined_signal\n",
        "\n",
        "# Print the combined signals DataFrame\n",
        "print(combined_signals)"
      ],
      "metadata": {
        "id": "IKJmHsUkIuj3"
      },
      "execution_count": null,
      "outputs": []
    },
    {
      "cell_type": "code",
      "source": [
        "# Define position sizing function\n",
        "def phi(y):\n",
        "    return y * np.exp(-(y ** 2) / 4) / 0.89\n",
        "\n",
        "# Short and long trend combinations used for MACD\n",
        "MACD_TREND_COMBINATIONS = [(8, 24), (16, 48), (32, 96)]\n",
        "\n",
        "class MACDStrategy:\n",
        "    def __init__(self, trend_combinations=None):\n",
        "        # Setting parameters\n",
        "        self.x_vol_window = 63\n",
        "        self.y_vol_window = 252\n",
        "\n",
        "        if trend_combinations is None:\n",
        "            self.trend_combinations = MACD_TREND_COMBINATIONS\n",
        "        else:\n",
        "            self.trend_combinations = trend_combinations\n",
        "\n",
        "    def compute_indiv_signal(self, prices, short_window, long_window):\n",
        "        # Compute individual signals\n",
        "\n",
        "        # Compute trend over short timescale\n",
        "        short_trend = prices.ewm(alpha=1.0/short_window).mean()\n",
        "        # Compute trend over long timescale\n",
        "        long_trend = prices.ewm(alpha=1.0/long_window).mean()\n",
        "\n",
        "        x = short_trend - long_trend\n",
        "        y = x / prices.rolling(self.x_vol_window).std().fillna(method=\"bfill\")\n",
        "        z = y / y.rolling(self.y_vol_window).std().fillna(method=\"bfill\")\n",
        "        return z\n",
        "\n",
        "    def get_signal(self, prices):\n",
        "        # Calculate combined signal\n",
        "        trend_combinations = self.trend_combinations\n",
        "        signal_df = None\n",
        "        \n",
        "        for short_window, long_window in trend_combinations:\n",
        "\n",
        "            indiv_signal = self.compute_indiv_signal(prices, short_window, long_window)\n",
        "\n",
        "            if signal_df is None:\n",
        "                signal_df = phi(indiv_signal)\n",
        "            else:\n",
        "                signal_df += phi(indiv_signal)\n",
        "\n",
        "        return signal_df / len(trend_combinations)"
      ],
      "metadata": {
        "id": "ys_90d8TJgqY"
      },
      "execution_count": 35,
      "outputs": []
    },
    {
      "cell_type": "code",
      "source": [
        "x = np.linspace(-5,5, 100)\n",
        "plt.plot(x,phi(x));"
      ],
      "metadata": {
        "id": "SOmo-07cJh0d"
      },
      "execution_count": null,
      "outputs": []
    },
    {
      "cell_type": "code",
      "source": [
        "# Calculate returns using MACD\n",
        "captured_returns_volscaled_macd = (\n",
        "    MACDStrategy().get_signal(data[\"srs\"])*data[\"scaled_next_day_returns\"]\n",
        ")[\"1990-01-01\":]\n",
        "\n",
        "# Plot cumulative returns of MACD vs long only\n",
        "plot_captured_returns(captured_returns_volscaled_lo, plot_with_equal_vol = VOL_TARGET)\n",
        "plot_captured_returns(captured_returns_volscaled_macd, plot_with_equal_vol = VOL_TARGET)\n",
        "plt.legend([\"Long Only\", \"MACD\"]);"
      ],
      "metadata": {
        "id": "TDU4bEBSJob9"
      },
      "execution_count": null,
      "outputs": []
    },
    {
      "cell_type": "code",
      "source": [
        "# Initialize a list to store the captured returns for each filter\n",
        "captured_returns_macd_filters = []\n",
        "\n",
        "# Calculate returns using MACD and different filters\n",
        "for short_window, long_window in MACD_TREND_COMBINATIONS:\n",
        "    macd_strategy = MACDStrategy([(short_window, long_window)])\n",
        "    captured_returns_macd = macd_strategy.get_signal(data[\"srs\"]) * data[\"scaled_next_day_returns\"]\n",
        "    captured_returns_macd_filters.append(captured_returns_macd)\n",
        "\n",
        "# Rescale the captured returns to have 15% volume\n",
        "rescaled_captured_returns_macd_filters = [capture_returns for capture_returns in captured_returns_macd_filters]\n",
        "\n",
        "# Plot the captured returns\n",
        "for i, rescaled_returns in enumerate(rescaled_captured_returns_macd_filters):\n",
        "    plot_captured_returns(rescaled_returns, plot_with_equal_vol=0.15)\n",
        "\n",
        "# Add legend and title to the plot\n",
        "plt.legend([f\"Filter {i+1}\" for i in range(len(rescaled_captured_returns_macd_filters))])\n",
        "plt.title(\"Captured Returns of MACD with Different Filters (Rescaled to 15% Volume)\")\n",
        "\n",
        "# Display the plot\n",
        "plt.show()"
      ],
      "metadata": {
        "id": "gufbTFMgJqZZ"
      },
      "execution_count": null,
      "outputs": []
    },
    {
      "cell_type": "code",
      "source": [
        "correlation = np.corrcoef(captured_returns_volscaled_lo, captured_returns_volscaled_tsmom)[0, 1]"
      ],
      "metadata": {
        "id": "ASirWNjTNXWd"
      },
      "execution_count": 42,
      "outputs": []
    },
    {
      "cell_type": "code",
      "source": [
        "# Calculate the equally weighted portfolio returns\n",
        "portfolio_returns = 0.5 * captured_returns_volscaled_lo + 0.5 * captured_returns_volscaled_tsmom\n",
        "\n",
        "# Plot the returns of the portfolio and individual strategies\n",
        "plot_captured_returns(captured_returns_volscaled_lo, plot_with_equal_vol=0.15)\n",
        "plot_captured_returns(captured_returns_volscaled_tsmom, plot_with_equal_vol=0.15)\n",
        "plot_captured_returns(portfolio_returns, plot_with_equal_vol=0.15)\n",
        "\n",
        "# Add legend and title to the plot\n",
        "plt.legend([\"Long Only\", \"Time Series Momentum\", \"Portfolio\"])\n",
        "plt.title(\"Comparison of Returns: Long Only vs. Time Series Momentum vs. Portfolio\")\n",
        "\n",
        "# Display the plot\n",
        "plt.show()"
      ],
      "metadata": {
        "colab": {
          "base_uri": "https://localhost:8080/",
          "height": 444
        },
        "id": "9FmCLeHIOA0E",
        "outputId": "2ca428f0-a49d-4477-e087-e87a07867ebe"
      },
      "execution_count": 43,
      "outputs": [
        {
          "output_type": "display_data",
          "data": {
            "text/plain": [
              "<Figure size 640x480 with 1 Axes>"
            ],
            "image/png": "[encoded data removed]"
          },
          "metadata": {}
        }
      ]
    }
  ],
  "metadata": {
    "colab": {
      "name": "Un benvenuto a Colaboratory",
      "toc_visible": true,
      "provenance": []
    },
    "kernelspec": {
      "display_name": "Python 3",
      "name": "python3"
    }
  },
  "nbformat": 4,
  "nbformat_minor": 0
}
